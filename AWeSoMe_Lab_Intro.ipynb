{
  "cells": [
    {
      "cell_type": "markdown",
      "metadata": {
        "id": "x58TOTJJ3ZxV"
      },
      "source": [
        "# AWeSoMe Lab Intro and Setup Assignment Notebook\n",
        "\n",
        "This is the Jupyter notebook for the HMC AWeSoMe Lab Intro and Setup Assignment \"Hello, Convokit\" ([writeup here](https://docs.google.com/document/d/1sMnhaWcx5VgZDhnTW4xSj0FmjITdqFqoMXMWCEoHyoE/edit?usp=sharing)). Solutions to coding questions _and_ written questions should be put here (you can use markdown cells for the written questions)."
      ]
    },
    {
      "cell_type": "markdown",
      "metadata": {
        "id": "7yrwOWZf3_DQ"
      },
      "source": [
        "## Part 1: Load a Corpus!\n",
        "\n",
        "See the [writeup for Part 1](https://docs.google.com/document/d/1sMnhaWcx5VgZDhnTW4xSj0FmjITdqFqoMXMWCEoHyoE/edit?tab=t.0#heading=h.yhpnne8a6ns3) before continuing."
      ]
    },
    {
      "cell_type": "code",
      "execution_count": null,
      "metadata": {
        "id": "C2OZwCQ14ey_"
      },
      "outputs": [],
      "source": [
        "from convokit import Corpus, download, FightingWords"
      ]
    },
    {
      "cell_type": "code",
      "execution_count": null,
      "metadata": {
        "id": "P9v2_96u4kBm"
      },
      "outputs": [],
      "source": [
        "reddit_corpus = Corpus(filename=download(\"reddit-corpus-small\"))"
      ]
    },
    {
      "cell_type": "code",
      "execution_count": null,
      "metadata": {
        "id": "22ReGax85eKf"
      },
      "outputs": [],
      "source": [
        "reddit_corpus.print_summary_stats()"
      ]
    },
    {
      "cell_type": "markdown",
      "metadata": {
        "id": "XYsPQf4H57_6"
      },
      "source": [
        "## Part 2: Re-implement print_summary_stats\n",
        "\n",
        "See the [writeup for Part 2](https://docs.google.com/document/d/1sMnhaWcx5VgZDhnTW4xSj0FmjITdqFqoMXMWCEoHyoE/edit?tab=t.0#heading=h.jz5jp4t11fwd) before continuing."
      ]
    },
    {
      "cell_type": "code",
      "execution_count": null,
      "metadata": {
        "id": "6TiSCzjV5gMF"
      },
      "outputs": [],
      "source": [
        "# Here's how you would iterate over Speakers:\n",
        "n_speakers = 0\n",
        "for speaker in reddit_corpus.iter_speakers():\n",
        "    n_speakers += 1\n",
        "print(n_speakers)"
      ]
    },
    {
      "cell_type": "markdown",
      "metadata": {
        "id": "JJzJanr5oJYF"
      },
      "source": [
        "TASK: In the two code cells below, modify the provided code to count Utterances and Speakers."
      ]
    },
    {
      "cell_type": "code",
      "execution_count": null,
      "metadata": {
        "id": "zCpH2f8cCxIq"
      },
      "outputs": [],
      "source": [
        "print(reddit_corpus.iter_speakers())"
      ]
    },
    {
      "cell_type": "code",
      "execution_count": null,
      "metadata": {
        "id": "o7nrTtLSoTYc"
      },
      "outputs": [],
      "source": [
        "def n_in_list(list):\n",
        "    '''\n",
        "    Iterates over list and gives the number of items in the corpus\n",
        "    '''\n",
        "    n_speakers = 0\n",
        "    for speaker in list:\n",
        "        n_speakers += 1\n",
        "    return n_speakers\n",
        "\n",
        "print(n_in_list(reddit_corpus.iter_speakers()))\n",
        "print(n_in_list(reddit_corpus.iter_conversations()))\n",
        "print(n_in_list(reddit_corpus.iter_utterances()))\n"
      ]
    },
    {
      "cell_type": "markdown",
      "metadata": {
        "id": "HzJQnF6UpmHe"
      },
      "source": [
        "## Part 3: Working with metadata\n",
        "\n",
        "See the [writeup for Part 3](https://docs.google.com/document/d/1sMnhaWcx5VgZDhnTW4xSj0FmjITdqFqoMXMWCEoHyoE/edit?tab=t.0#heading=h.ciwzim5uquvi) before continuing."
      ]
    },
    {
      "cell_type": "code",
      "execution_count": null,
      "metadata": {
        "id": "ykdum6eYpsBL"
      },
      "outputs": [],
      "source": [
        "# Here's an example of accessing Conversation metadata\n",
        "# (demonstrated on a randomly selected Conversation)\n",
        "c = reddit_corpus.random_conversation()\n",
        "print(c.meta[\"title\"])"
      ]
    },
    {
      "cell_type": "markdown",
      "metadata": {
        "id": "3i0nXwolrXV_"
      },
      "source": [
        "TASK: Using conversation-level metadata and the iterators you practiced in Part 2, compute (a) the total number of subreddits in the Corpus, and (b) the 5 subreddits with the most conversations (along with the exact number of conversations in each of those 5 subreddits)."
      ]
    },
    {
      "cell_type": "code",
      "execution_count": null,
      "metadata": {
        "id": "VtwLOWtjrpor"
      },
      "outputs": [],
      "source": [
        "\n",
        "subreddits = {}\n",
        "\n",
        "for post in reddit_corpus.iter_conversations():\n",
        "    temp_sub = post.meta[\"subreddit\"]\n",
        "\n",
        "    # count number of posts per subreddit\n",
        "    if temp_sub in subreddits:\n",
        "        subreddits[temp_sub] = subreddits.get(temp_sub) + 1\n",
        "    else:\n",
        "        subreddits[temp_sub] = 1\n",
        "\n",
        "\n",
        "print(\"The number of subreddits is \" + str(len(subreddits)))\n",
        "print(\"the top five subreddits are \"+ str(sorted(subreddits, key=subreddits.get, reverse=True)[:5]))\n",
        "\n",
        "print(subreddits)"
      ]
    },
    {
      "cell_type": "markdown",
      "metadata": {
        "id": "SXlgQltmtpHw"
      },
      "source": [
        "## Part 4: Transformers, roll out!\n",
        "\n",
        "See the [writeup for Part 4](https://docs.google.com/document/d/1sMnhaWcx5VgZDhnTW4xSj0FmjITdqFqoMXMWCEoHyoE/edit?tab=t.0#heading=h.lhawg1ufgxev) before continuing."
      ]
    },
    {
      "cell_type": "code",
      "execution_count": null,
      "metadata": {
        "id": "BAwAgguauA40"
      },
      "outputs": [],
      "source": [
        "# Here's an example of applying a simple Transformation\n",
        "# (the TextCleaner, which does basic text standardization such as lowercasing everything)\n",
        "from convokit import TextCleaner\n",
        "cleaner = TextCleaner(replace_text=False)\n",
        "reddit_corpus = cleaner.transform(reddit_corpus)\n",
        "utt = reddit_corpus.random_utterance()\n",
        "print(\"Original text:\", utt.text)\n",
        "print(\"Cleaned text:\", utt.meta[\"cleaned\"])"
      ]
    },
    {
      "cell_type": "markdown",
      "metadata": {
        "id": "QVWYqhUBx80i"
      },
      "source": [
        "TASK: Use the [Fighting Words Transformer](https://convokit.cornell.edu/documentation/fightingwords.html) to generate a plot comparing the usage of words in the subreddits \"nfl\" and \"programming\"."
      ]
    },
    {
      "cell_type": "code",
      "execution_count": null,
      "metadata": {
        "id": "zJI7dGZIwOuB"
      },
      "outputs": [],
      "source": [
        "# write code that applies the fightingwords transformer to the reddit corpus to compare the language \n",
        "# used in the subreddits \"nfl\" and \"programming\". Produce plot showing differences\n",
        "\n",
        "fw = FightingWords(ngram_range=(1,1))\n",
        "\n",
        "fw.fit(reddit_corpus, class1_func=lambda utt: utt.meta['subreddit'] == 'nfl',\n",
        "                      class2_func=lambda utt: utt.meta['subreddit'] == 'programming')\n",
        "\n",
        "df = fw.summarize(reddit_corpus, plot=True, class1_name='r/nfl', class2_name='r/programming')\n",
        "\n",
        "df"
      ]
    },
    {
      "cell_type": "markdown",
      "metadata": {
        "id": "ZWVw_K96At9c"
      },
      "source": [
        "## Part 5: Your turn!\n",
        "\n",
        "See the [writeup for Part 5](https://docs.google.com/document/d/1sMnhaWcx5VgZDhnTW4xSj0FmjITdqFqoMXMWCEoHyoE/edit?tab=t.0#heading=h.ep64m0asidvd) before continuing."
      ]
    },
    {
      "cell_type": "markdown",
      "metadata": {
        "id": "lNTyhQ9xAy4W"
      },
      "source": [
        "Before you write any code, please write down in this text cell what groups you have chosen to compare, and what hypotheses you came up with beforehand."
      ]
    },
    {
      "cell_type": "code",
      "execution_count": null,
      "metadata": {
        "id": "9hZ17mlgA8-c"
      },
      "outputs": [],
      "source": [
        "# Add your code here.\n",
        "# (You may also add as many additional code cells as you want)\n",
        "\n",
        "#compare AskMen and AskWomen\n",
        "\n"
      ]
    },
    {
      "cell_type": "markdown",
      "metadata": {
        "id": "_EWvgMq3BC5_"
      },
      "source": [
        "Now write down in this text cell some things that you found. How did the results compare to your expectations? Was there anything that surprised you? Is there anything you would do differently?"
      ]
    }
  ],
  "metadata": {
    "colab": {
      "provenance": []
    },
    "kernelspec": {
      "display_name": "summer2025",
      "language": "python",
      "name": "python3"
    },
    "language_info": {
      "codemirror_mode": {
        "name": "ipython",
        "version": 3
      },
      "file_extension": ".py",
      "mimetype": "text/x-python",
      "name": "python",
      "nbconvert_exporter": "python",
      "pygments_lexer": "ipython3",
      "version": "3.13.2"
    }
  },
  "nbformat": 4,
  "nbformat_minor": 0
}
