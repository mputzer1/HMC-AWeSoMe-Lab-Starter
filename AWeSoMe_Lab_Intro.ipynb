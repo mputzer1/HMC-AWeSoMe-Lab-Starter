{
  "cells": [
    {
      "cell_type": "markdown",
      "metadata": {
        "id": "x58TOTJJ3ZxV"
      },
      "source": [
        "# AWeSoMe Lab Intro and Setup Assignment Notebook\n",
        "\n",
        "This is the Jupyter notebook for the HMC AWeSoMe Lab Intro and Setup Assignment \"Hello, Convokit\" ([writeup here](https://docs.google.com/document/d/1sMnhaWcx5VgZDhnTW4xSj0FmjITdqFqoMXMWCEoHyoE/edit?usp=sharing)). Solutions to coding questions _and_ written questions should be put here (you can use markdown cells for the written questions)."
      ]
    },
    {
      "cell_type": "markdown",
      "metadata": {
        "id": "7yrwOWZf3_DQ"
      },
      "source": [
        "## Part 1: Load a Corpus!\n",
        "\n",
        "See the [writeup for Part 1](https://docs.google.com/document/d/1sMnhaWcx5VgZDhnTW4xSj0FmjITdqFqoMXMWCEoHyoE/edit?tab=t.0#heading=h.yhpnne8a6ns3) before continuing."
      ]
    },
    {
      "cell_type": "code",
      "execution_count": null,
      "metadata": {
        "id": "C2OZwCQ14ey_"
      },
      "outputs": [],
      "source": [
        "from convokit import Corpus, download"
      ]
    },
    {
      "cell_type": "code",
      "execution_count": null,
      "metadata": {
        "id": "P9v2_96u4kBm"
      },
      "outputs": [],
      "source": [
        "reddit_corpus = Corpus(filename=download(\"reddit-corpus-small\"))"
      ]
    },
    {
      "cell_type": "code",
      "execution_count": null,
      "metadata": {
        "id": "22ReGax85eKf"
      },
      "outputs": [],
      "source": [
        "reddit_corpus.print_summary_stats()"
      ]
    },
    {
      "cell_type": "markdown",
      "metadata": {
        "id": "XYsPQf4H57_6"
      },
      "source": [
        "## Part 2: Re-implement print_summary_stats\n",
        "\n",
        "See the [writeup for Part 2](https://docs.google.com/document/d/1sMnhaWcx5VgZDhnTW4xSj0FmjITdqFqoMXMWCEoHyoE/edit?tab=t.0#heading=h.jz5jp4t11fwd) before continuing."
      ]
    },
    {
      "cell_type": "code",
      "execution_count": null,
      "metadata": {
        "id": "6TiSCzjV5gMF"
      },
      "outputs": [],
      "source": [
        "# Here's how you would iterate over Speakers:\n",
        "n_speakers = 0\n",
        "for speaker in reddit_corpus.iter_speakers():\n",
        "    n_speakers += 1\n",
        "print(n_speakers)"
      ]
    },
    {
      "cell_type": "markdown",
      "metadata": {
        "id": "JJzJanr5oJYF"
      },
      "source": [
        "TASK: In the two code cells below, modify the provided code to count Utterances and Speakers."
      ]
    },
    {
      "cell_type": "code",
      "execution_count": null,
      "metadata": {
        "id": "zCpH2f8cCxIq"
      },
      "outputs": [],
      "source": []
    },
    {
      "cell_type": "code",
      "execution_count": null,
      "metadata": {
        "id": "o7nrTtLSoTYc"
      },
      "outputs": [],
      "source": []
    },
    {
      "cell_type": "markdown",
      "metadata": {
        "id": "HzJQnF6UpmHe"
      },
      "source": [
        "## Part 3: Working with metadata\n",
        "\n",
        "See the [writeup for Part 3](https://docs.google.com/document/d/1sMnhaWcx5VgZDhnTW4xSj0FmjITdqFqoMXMWCEoHyoE/edit?tab=t.0#heading=h.ciwzim5uquvi) before continuing."
      ]
    },
    {
      "cell_type": "code",
      "execution_count": null,
      "metadata": {
        "id": "ykdum6eYpsBL"
      },
      "outputs": [],
      "source": [
        "# Here's an example of accessing Conversation metadata\n",
        "# (demonstrated on a randomly selected Conversation)\n",
        "c = reddit_corpus.random_conversation()\n",
        "print(c.meta[\"title\"])"
      ]
    },
    {
      "cell_type": "markdown",
      "metadata": {
        "id": "3i0nXwolrXV_"
      },
      "source": [
        "TASK: Using conversation-level metadata and the iterators you practiced in Part 2, compute (a) the total number of subreddits in the Corpus, and (b) the 5 subreddits with the most conversations (along with the exact number of conversations in each of those 5 subreddits)."
      ]
    },
    {
      "cell_type": "code",
      "execution_count": null,
      "metadata": {
        "id": "VtwLOWtjrpor"
      },
      "outputs": [],
      "source": []
    },
    {
      "cell_type": "markdown",
      "metadata": {
        "id": "SXlgQltmtpHw"
      },
      "source": [
        "## Part 4: Transformers, roll out!\n",
        "\n",
        "See the [writeup for Part 4](https://docs.google.com/document/d/1sMnhaWcx5VgZDhnTW4xSj0FmjITdqFqoMXMWCEoHyoE/edit?tab=t.0#heading=h.lhawg1ufgxev) before continuing."
      ]
    },
    {
      "cell_type": "code",
      "execution_count": null,
      "metadata": {
        "id": "BAwAgguauA40"
      },
      "outputs": [],
      "source": [
        "# Here's an example of applying a simple Transformation\n",
        "# (the TextCleaner, which does basic text standardization such as lowercasing everything)\n",
        "from convokit import TextCleaner\n",
        "cleaner = TextCleaner(replace_text=False)\n",
        "reddit_corpus = cleaner.transform(reddit_corpus)\n",
        "utt = reddit_corpus.random_utterance()\n",
        "print(\"Original text:\", utt.text)\n",
        "print(\"Cleaned text:\", utt.meta[\"cleaned\"])"
      ]
    },
    {
      "cell_type": "markdown",
      "metadata": {
        "id": "QVWYqhUBx80i"
      },
      "source": [
        "TASK: Use the [Fighting Words Transformer](https://convokit.cornell.edu/documentation/fightingwords.html) to generate a plot comparing the usage of words in the subreddits \"nfl\" and \"programming\"."
      ]
    },
    {
      "cell_type": "code",
      "execution_count": null,
      "metadata": {
        "id": "zJI7dGZIwOuB"
      },
      "outputs": [],
      "source": []
    },
    {
      "cell_type": "markdown",
      "metadata": {
        "id": "ZWVw_K96At9c"
      },
      "source": [
        "## Part 5: Your turn!\n",
        "\n",
        "See the [writeup for Part 5](https://docs.google.com/document/d/1sMnhaWcx5VgZDhnTW4xSj0FmjITdqFqoMXMWCEoHyoE/edit?tab=t.0#heading=h.ep64m0asidvd) before continuing."
      ]
    },
    {
      "cell_type": "markdown",
      "metadata": {
        "id": "lNTyhQ9xAy4W"
      },
      "source": [
        "Before you write any code, please write down in this text cell what groups you have chosen to compare, and what hypotheses you came up with beforehand."
      ]
    },
    {
      "cell_type": "code",
      "execution_count": null,
      "metadata": {
        "id": "9hZ17mlgA8-c"
      },
      "outputs": [],
      "source": [
        "# Add your code here.\n",
        "# (You may also add as many additional code cells as you want)\n",
        "# Find the most common author_flair_texts in each subreddit\n"
      ]
    },
    {
      "cell_type": "markdown",
      "metadata": {
        "id": "_EWvgMq3BC5_"
      },
      "source": [
        "Now write down in this text cell some things that you found. How did the results compare to your expectations? Was there anything that surprised you? Is there anything you would do differently?"
      ]
    }
  ],
  "metadata": {
    "colab": {
      "provenance": []
    },
    "kernelspec": {
      "display_name": "Python 3",
      "name": "python3"
    },
    "language_info": {
      "name": "python"
    }
  },
  "nbformat": 4,
  "nbformat_minor": 0
}
